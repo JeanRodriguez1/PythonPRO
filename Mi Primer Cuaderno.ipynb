{
 "cells": [
  {
   "cell_type": "code",
   "execution_count": 1,
   "id": "1b6d5c23-d27b-4ed1-bd34-b8ab152e29ff",
   "metadata": {},
   "outputs": [
    {
     "name": "stdout",
     "output_type": "stream",
     "text": [
      "Hola Mundo\n"
     ]
    }
   ],
   "source": [
    "print(\"Hola Mundo\")"
   ]
  },
  {
   "cell_type": "code",
   "execution_count": 2,
   "id": "0d2c76b3-04eb-4da5-af6b-7704b4444fa3",
   "metadata": {},
   "outputs": [
    {
     "data": {
      "text/plain": [
       "20"
      ]
     },
     "execution_count": 2,
     "metadata": {},
     "output_type": "execute_result"
    }
   ],
   "source": [
    "10 + 10"
   ]
  },
  {
   "cell_type": "code",
   "execution_count": 3,
   "id": "4f9d73ab-2d63-44a9-b7f4-d1612ed8d81b",
   "metadata": {},
   "outputs": [
    {
     "data": {
      "text/plain": [
       "'Hola Mundo'"
      ]
     },
     "execution_count": 3,
     "metadata": {},
     "output_type": "execute_result"
    }
   ],
   "source": [
    "\"Hola Mundo\""
   ]
  },
  {
   "cell_type": "markdown",
   "id": "c656d0c7-74e0-4b17-a065-6ae044e72bfa",
   "metadata": {},
   "source": [
    "Este es mi cuaderno"
   ]
  },
  {
   "cell_type": "markdown",
   "id": "659f410b-1c2d-4e8a-945f-ae8274e82a88",
   "metadata": {},
   "source": [
    "#Titulo"
   ]
  },
  {
   "cell_type": "markdown",
   "id": "0c97759e-4a71-4f8d-8b1c-8401d7422bd8",
   "metadata": {},
   "source": [
    "##Tiulo"
   ]
  }
 ],
 "metadata": {
  "kernelspec": {
   "display_name": "Python 3 (ipykernel)",
   "language": "python",
   "name": "python3"
  },
  "language_info": {
   "codemirror_mode": {
    "name": "ipython",
    "version": 3
   },
   "file_extension": ".py",
   "mimetype": "text/x-python",
   "name": "python",
   "nbconvert_exporter": "python",
   "pygments_lexer": "ipython3",
   "version": "3.12.4"
  }
 },
 "nbformat": 4,
 "nbformat_minor": 5
}
